{
  "cells": [
    {
      "cell_type": "markdown",
      "metadata": {
        "id": "view-in-github",
        "colab_type": "text"
      },
      "source": [
        "<a href=\"https://colab.research.google.com/github/dearmouries/ERC875-Example-Implementation/blob/master/HW2_Template.ipynb\" target=\"_parent\"><img src=\"https://colab.research.google.com/assets/colab-badge.svg\" alt=\"Open In Colab\"/></a>"
      ]
    },
    {
      "cell_type": "markdown",
      "metadata": {
        "id": "6gPnbsaceQND"
      },
      "source": [
        "# Clustering on Amazon food reviews"
      ]
    },
    {
      "cell_type": "markdown",
      "metadata": {
        "id": "7NVamasVco34"
      },
      "source": [
        "## Introduction\n",
        "\n",
        "This Colab notebook shows how to set up and train a **Clustering** model to discover valuable, hidden groupings within the data.\n",
        "\n",
        "\n",
        "## The dataset\n",
        "\n",
        "This dataset consists of reviews of fine foods from Amazon. The dataset contains a total of 568,454 food reviews Amazon users span a period of more than 10 years, left up to October 2012. Reviews include product and user information, ratings, and a plain text review. It also includes reviews from all other Amazon categories. ([more background on the data](https://www.kaggle.com/datasets/snap/amazon-fine-food-reviews))\n",
        "\n",
        "To faciliate a smooth learning experience, let's try we a dataset down to a manageable sample of 1,000 reviews. This size reduction allows for more efficient data processing and analysis without the need for high-end computing resources, ensuring everyone can participate equally. Despite the smaller size, this subset still offers a broad and representative sample of the original dataset, allowing us to explore key concepts in data science and machine learning effectively."
      ]
    },
    {
      "cell_type": "markdown",
      "metadata": {
        "id": "-7YELlPx8pgo"
      },
      "source": [
        "## Technical preliminaries\n",
        "\n",
        "First, let's get some technical preliminaries out of the way. We will first import the following packages:"
      ]
    },
    {
      "cell_type": "code",
      "execution_count": null,
      "metadata": {
        "id": "mY2qrMSEKmje"
      },
      "outputs": [],
      "source": [
        "import numpy as np\n",
        "import pandas as pd\n",
        "from ast import literal_eval\n",
        "from sklearn.cluster import KMeans\n",
        "from sklearn.manifold import TSNE\n",
        "import matplotlib\n",
        "import matplotlib.pyplot as plt\n",
        "from google.colab import drive\n",
        "drive.mount('/content/drive')"
      ]
    },
    {
      "cell_type": "markdown",
      "metadata": {
        "id": "tRS8tSL-8pgp"
      },
      "source": [
        "## Read in the data"
      ]
    },
    {
      "cell_type": "markdown",
      "metadata": {
        "id": "Gpx8iVb48LoF"
      },
      "source": [
        "With the technical preliminaries out of the way, let's load the dataset and take a look."
      ]
    },
    {
      "cell_type": "code",
      "source": [
        "# load data\n",
        "datafile_path = '/content/drive/My Drive/HW2_student_access/fine_food_reviews_with_embeddings_1k.csv'\n",
        "\n",
        "df = pd.read_csv(datafile_path)\n",
        "df[\"embedding\"] = df.embedding.apply(literal_eval).apply(np.array)  # convert string to numpy array"
      ],
      "metadata": {
        "id": "SElv9lyngCih"
      },
      "execution_count": null,
      "outputs": []
    },
    {
      "cell_type": "markdown",
      "source": [
        "OK, let's look at the first 5 rows of the dataset and the text of each sample of reviews."
      ],
      "metadata": {
        "id": "z10aXYVw4VFG"
      }
    },
    {
      "cell_type": "code",
      "source": [
        "matrix = np.vstack(df.embedding.values)\n",
        "matrix.shape\n",
        "df.head(5)"
      ],
      "metadata": {
        "id": "OgNLRrJq30Wv"
      },
      "execution_count": null,
      "outputs": []
    },
    {
      "cell_type": "markdown",
      "source": [
        "## K-Means Clustering Model\n",
        "\n",
        "In our K-Means Clustering approach, we'll discover natural groupings among the Amazon food reviews.\n",
        "\n",
        "*   K-Means works by organizing data into a specified number of clusters (e.g., 4 clusters for our dataset). Each review is represented by an embedding—a numerical vector that captures its textual essence. The algorithm finds the centroids of clusters that minimize the distances within clusters and maximizes the distances between clusters.\n",
        "*   For implementation, we convert review texts into embeddings and use these as input for K-Means. If our embeddings are 10-dimensional, K-Means will analyze these points in a 10-dimensional space to form clusters, grouping similar reviews together based on their embeddings without any pre-defined labels."
      ],
      "metadata": {
        "id": "I_bxKzH-7OJ_"
      }
    },
    {
      "cell_type": "markdown",
      "source": [
        "**Problem 1 c)**\n",
        "\n",
        "Perform K-means clustering on the dataset using n_clusters = 4\n",
        "\n",
        "Hint: Use the following parameters for the function \"KMeans\":  \n",
        "\n",
        "*   n_clusters=4\n",
        "*   init=\"k-means++\"\n",
        "*   random_state=42\n",
        "*   n_init=10\n",
        "\n",
        "\n",
        "Add a new column to your DataFrame indicating the cluster each review belongs to. Print the first 5 rows of the modified dataset and take a screenshot of the DataFrame and include it in your PDF submission."
      ],
      "metadata": {
        "id": "n59pz_vL7yp2"
      }
    },
    {
      "cell_type": "code",
      "source": [
        "# Conduct clustering on the dataset\n",
        "\n",
        "\n",
        "# Add a new column to your DataFrame indicating the cluster each review belongs to\n",
        "\n",
        "\n",
        "# Print the first 5 rows of the modified dataset\n",
        "\n"
      ],
      "metadata": {
        "id": "rnEdMmE6vEmT"
      },
      "execution_count": null,
      "outputs": []
    },
    {
      "cell_type": "markdown",
      "source": [
        "**Problem 1d)**\n",
        "\n",
        "Export your DataFrame into a CSV file and save the file to your personal Google Drive. Include the review texts and their corresponding cluster labels, but exclude the embeddings for simplicity. (Hint: Remember to change the file path that enables the saving of the CSV file to your personal Google Drive)"
      ],
      "metadata": {
        "id": "vzWrn8W9hkWb"
      }
    },
    {
      "cell_type": "code",
      "source": [
        "# Selecting only the 'Summary', 'Text', and 'Cluster' columns for export\n",
        "\n",
        "\n",
        "# Export the selected DataFrame to a CSV file\n"
      ],
      "metadata": {
        "id": "4PoxqhPdhhOR"
      },
      "execution_count": null,
      "outputs": []
    },
    {
      "cell_type": "markdown",
      "source": [
        "**Problem 1e)**\n",
        "\n",
        "Upload your CSV file to ChatGPT Plus and ask for a summary of the prevalent themes across the reviews. Include the link to your ChatGPT conversation, demonstrating how you asked for the summary. Refer to the Colab template example for guidance on the expected outcome. After reviewing the analysis provided by ChatGPT, provide 3 to 5 examples for each theme and assess if the identified clusters in your dataset correspond with the summary provided by ChatGPT.\n",
        "\n",
        "See the example below as reference:"
      ],
      "metadata": {
        "id": "06-xyDu0Ga-R"
      }
    },
    {
      "cell_type": "markdown",
      "source": [
        "**For example:**\n",
        "\n",
        "**Cluster 0 Theme: The theme of these customer reviews is food products purchased on Amazon. Sample of the sentences:**\n",
        "\n",
        "1.   Loved these gluten free healthy bars, saved $$ ordering on Amazon:   These Kind Bars are so good and healthy & gluten free.  My daughter ca\n",
        "2.   Should advertise coconut as an ingredient more prominently:   First, these should be called Mac - Coconut bars, as Coconut is the #2\n",
        "3.   very good!!:   just like the runts<br />great flavor, def worth getting<br />I even o\n",
        "4.   Excellent product:   After scouring every store in town for orange peels and not finding an\n",
        "5.   delicious:   Gummi Frogs have been my favourite candy that I have ever tried. of co\n",
        "\n",
        "**Cluster 1 Theme: Pet food reviews. Sample of the sentences:**\n",
        "1.   Messy and apparently undelicious:   My cat is not a huge fan. Sure, she'll lap up the gravy, but leaves th\n",
        "2.   The cats like it:   My 7 cats like this food but it is a little yucky for the human. Piece\n",
        "3.   cant get enough of it!!!:   Our lil shih tzu puppy cannot get enough of it. Everytime she sees the\n",
        "4.   Food Caused Illness:   I switched my cats over from the Blue Buffalo Wildnerness Food to this\n",
        "5.   My furbabies LOVE these!:   Shake the container and they come running. Even my boy cat, who isn't\n",
        "\n",
        "**Cluster 2 Theme: All the reviews are about different types of coffee.**\n",
        "1.   Fog Chaser Coffee:   This coffee has a full body and a rich taste. The price is far below t\n",
        "2.   Excellent taste:   This is to me a great coffee, once you try it you will enjoy it, this\n",
        "3.   Good, but not Wolfgang Puck good:   Honestly, I have to admit that I expected a little better. That's not\n",
        "4.   Just My Kind of Coffee:   Coffee Masters Hazelnut coffee used to be carried in a local coffee/pa\n",
        "5.   Rodeo Drive is Crazy Good Coffee!:   Rodeo Drive is my absolute favorite and I'm ready to order more!  That\n",
        "\n",
        "**Cluster 3 Theme: The theme of these customer reviews is food and drink products. Sample of the sentences:**\n",
        "1.   Wonderful alternative to soda pop:   This is a wonderful alternative to soda pop.  It's carbonated for thos\n",
        "2.   So convenient, for so little!:   I needed two vanilla beans for the Love Goddess cake that my husbands\n",
        "3.   bot very cheesy:   Got this about a month ago.first of all it smells horrible...it tastes\n",
        "4.   Delicious!:   I am not a huge beer lover.  I do enjoy an occasional Blue Moon (all o\n",
        "5. Just ok:   I bought this brand because it was all they had at Ranch 99 near us. I"
      ],
      "metadata": {
        "id": "CGFSo-ht_REz"
      }
    },
    {
      "cell_type": "markdown",
      "source": [
        "## Conclusion\n",
        "\n",
        "We developed a **K-Means Clustering Model** capable of identifying valuable, hidden groupings within the data with different themes!"
      ],
      "metadata": {
        "id": "ogUe8494GuIg"
      }
    }
  ],
  "metadata": {
    "accelerator": "GPU",
    "colab": {
      "gpuType": "T4",
      "provenance": [],
      "include_colab_link": true
    },
    "kernelspec": {
      "display_name": "Python 3",
      "name": "python3"
    }
  },
  "nbformat": 4,
  "nbformat_minor": 0
}